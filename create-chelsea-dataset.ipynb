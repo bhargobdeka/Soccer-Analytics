{
 "cells": [
  {
   "cell_type": "code",
   "execution_count": 1,
   "metadata": {},
   "outputs": [],
   "source": [
    "# import libraries\n",
    "import json\n",
    "import numpy as np\n",
    "import pandas as pd"
   ]
  },
  {
   "cell_type": "code",
   "execution_count": 2,
   "metadata": {},
   "outputs": [
    {
     "name": "stdout",
     "output_type": "stream",
     "text": [
      "['event', 'matchweek', 'team1_name', 'team1_startings', 'team1_subs', 'team1_stat', 'team2_name', 'team2_startings', 'team2_subs', 'team2_stat']\n"
     ]
    }
   ],
   "source": [
    "json_file_path = 'epl-dataset/epl_2022_2023_07_02_2023.json'\n",
    "with open(json_file_path, 'r') as json_file:\n",
    "    data_df = pd.read_json(json_file)\n",
    "\n",
    "# Transpose the data frame\n",
    "data_df = data_df.T\n",
    "# List the columns\n",
    "print(list(data_df.columns))\n",
    "\n",
    "# data frame with only the column event\n",
    "event_df = data_df['event']\n"
   ]
  },
  {
   "cell_type": "code",
   "execution_count": 3,
   "metadata": {},
   "outputs": [
    {
     "data": {
      "text/plain": [
       "Index([75091, 75096, 75098, 75099, 75093, 75082, 75088, 75087, 75089, 75084,\n",
       "       ...\n",
       "       75127, 75128, 75129, 75124, 75125, 75121, 75122, 75123, 75126, 75130],\n",
       "      dtype='int64', length=209)"
      ]
     },
     "execution_count": 3,
     "metadata": {},
     "output_type": "execute_result"
    }
   ],
   "source": [
    "# List the index\n",
    "data_df.index"
   ]
  },
  {
   "cell_type": "code",
   "execution_count": 4,
   "metadata": {},
   "outputs": [
    {
     "data": {
      "text/html": [
       "<div>\n",
       "<style scoped>\n",
       "    .dataframe tbody tr th:only-of-type {\n",
       "        vertical-align: middle;\n",
       "    }\n",
       "\n",
       "    .dataframe tbody tr th {\n",
       "        vertical-align: top;\n",
       "    }\n",
       "\n",
       "    .dataframe thead th {\n",
       "        text-align: right;\n",
       "    }\n",
       "</style>\n",
       "<table border=\"1\" class=\"dataframe\">\n",
       "  <thead>\n",
       "    <tr style=\"text-align: right;\">\n",
       "      <th></th>\n",
       "      <th>event</th>\n",
       "      <th>matchweek</th>\n",
       "      <th>team1_name</th>\n",
       "      <th>team1_startings</th>\n",
       "      <th>team1_subs</th>\n",
       "      <th>team1_stat</th>\n",
       "      <th>team2_name</th>\n",
       "      <th>team2_startings</th>\n",
       "      <th>team2_subs</th>\n",
       "      <th>team2_stat</th>\n",
       "    </tr>\n",
       "  </thead>\n",
       "  <tbody>\n",
       "    <tr>\n",
       "      <th>75091</th>\n",
       "      <td>[Full-time Match ends, Arsenal 0, Newcastle Un...</td>\n",
       "      <td>Matchweek 19</td>\n",
       "      <td>Arsenal</td>\n",
       "      <td>[Aaron Ramsdale, Ben White, Gabriel Magalhães,...</td>\n",
       "      <td>[Matt Turner, Kieran Tierney, Rob Holding, Tak...</td>\n",
       "      <td>{'possession_%': '66.8', 'shots_on_target': '4...</td>\n",
       "      <td>Newcastle United</td>\n",
       "      <td>[Nick Pope, Kieran Trippier, Sven Botman, Fabi...</td>\n",
       "      <td>[Martin Dúbravka, Jamaal Lascelles, Jamal Lewi...</td>\n",
       "      <td>{'possession_%': '33.2', 'shots_on_target': '1...</td>\n",
       "    </tr>\n",
       "  </tbody>\n",
       "</table>\n",
       "</div>"
      ],
      "text/plain": [
       "                                                   event     matchweek  \\\n",
       "75091  [Full-time Match ends, Arsenal 0, Newcastle Un...  Matchweek 19   \n",
       "\n",
       "      team1_name                                    team1_startings  \\\n",
       "75091    Arsenal  [Aaron Ramsdale, Ben White, Gabriel Magalhães,...   \n",
       "\n",
       "                                              team1_subs  \\\n",
       "75091  [Matt Turner, Kieran Tierney, Rob Holding, Tak...   \n",
       "\n",
       "                                              team1_stat        team2_name  \\\n",
       "75091  {'possession_%': '66.8', 'shots_on_target': '4...  Newcastle United   \n",
       "\n",
       "                                         team2_startings  \\\n",
       "75091  [Nick Pope, Kieran Trippier, Sven Botman, Fabi...   \n",
       "\n",
       "                                              team2_subs  \\\n",
       "75091  [Martin Dúbravka, Jamaal Lascelles, Jamal Lewi...   \n",
       "\n",
       "                                              team2_stat  \n",
       "75091  {'possession_%': '33.2', 'shots_on_target': '1...  "
      ]
     },
     "execution_count": 4,
     "metadata": {},
     "output_type": "execute_result"
    }
   ],
   "source": [
    "# Visualize the first data\n",
    "data_df.head(1)"
   ]
  },
  {
   "cell_type": "code",
   "execution_count": 5,
   "metadata": {},
   "outputs": [
    {
     "data": {
      "text/html": [
       "<div>\n",
       "<style scoped>\n",
       "    .dataframe tbody tr th:only-of-type {\n",
       "        vertical-align: middle;\n",
       "    }\n",
       "\n",
       "    .dataframe tbody tr th {\n",
       "        vertical-align: top;\n",
       "    }\n",
       "\n",
       "    .dataframe thead th {\n",
       "        text-align: right;\n",
       "    }\n",
       "</style>\n",
       "<table border=\"1\" class=\"dataframe\">\n",
       "  <thead>\n",
       "    <tr style=\"text-align: right;\">\n",
       "      <th></th>\n",
       "      <th>team1_name</th>\n",
       "      <th>team1_stat</th>\n",
       "      <th>team2_name</th>\n",
       "      <th>team2_stat</th>\n",
       "    </tr>\n",
       "  </thead>\n",
       "  <tbody>\n",
       "    <tr>\n",
       "      <th>75091</th>\n",
       "      <td>Arsenal</td>\n",
       "      <td>{'possession_%': '66.8', 'shots_on_target': '4...</td>\n",
       "      <td>Newcastle United</td>\n",
       "      <td>{'possession_%': '33.2', 'shots_on_target': '1...</td>\n",
       "    </tr>\n",
       "  </tbody>\n",
       "</table>\n",
       "</div>"
      ],
      "text/plain": [
       "      team1_name                                         team1_stat  \\\n",
       "75091    Arsenal  {'possession_%': '66.8', 'shots_on_target': '4...   \n",
       "\n",
       "             team2_name                                         team2_stat  \n",
       "75091  Newcastle United  {'possession_%': '33.2', 'shots_on_target': '1...  "
      ]
     },
     "execution_count": 5,
     "metadata": {},
     "output_type": "execute_result"
    }
   ],
   "source": [
    "# drop columns and only keep the stats columns\n",
    "new_data_df = data_df\n",
    "columns_to_drop = ['event', 'matchweek','team1_startings', 'team1_subs',  'team2_startings', 'team2_subs']\n",
    "new_data_df.drop(columns_to_drop, axis=1, inplace=True)\n",
    "new_data_df.head(1)"
   ]
  },
  {
   "cell_type": "code",
   "execution_count": 6,
   "metadata": {},
   "outputs": [
    {
     "data": {
      "text/html": [
       "<div>\n",
       "<style scoped>\n",
       "    .dataframe tbody tr th:only-of-type {\n",
       "        vertical-align: middle;\n",
       "    }\n",
       "\n",
       "    .dataframe tbody tr th {\n",
       "        vertical-align: top;\n",
       "    }\n",
       "\n",
       "    .dataframe thead th {\n",
       "        text-align: right;\n",
       "    }\n",
       "</style>\n",
       "<table border=\"1\" class=\"dataframe\">\n",
       "  <thead>\n",
       "    <tr style=\"text-align: right;\">\n",
       "      <th></th>\n",
       "      <th>home_team</th>\n",
       "      <th>home_team_stat</th>\n",
       "      <th>away_team</th>\n",
       "      <th>away_team_stat</th>\n",
       "    </tr>\n",
       "  </thead>\n",
       "  <tbody>\n",
       "    <tr>\n",
       "      <th>75091</th>\n",
       "      <td>Arsenal</td>\n",
       "      <td>{'possession_%': '66.8', 'shots_on_target': '4...</td>\n",
       "      <td>Newcastle United</td>\n",
       "      <td>{'possession_%': '33.2', 'shots_on_target': '1...</td>\n",
       "    </tr>\n",
       "  </tbody>\n",
       "</table>\n",
       "</div>"
      ],
      "text/plain": [
       "      home_team                                     home_team_stat  \\\n",
       "75091   Arsenal  {'possession_%': '66.8', 'shots_on_target': '4...   \n",
       "\n",
       "              away_team                                     away_team_stat  \n",
       "75091  Newcastle United  {'possession_%': '33.2', 'shots_on_target': '1...  "
      ]
     },
     "execution_count": 6,
     "metadata": {},
     "output_type": "execute_result"
    }
   ],
   "source": [
    "# change team1_name to home_team and team2_name to away_team\n",
    "new_data_df.rename(columns={'team1_name':'home_team', 'team2_name':'away_team', 'team1_stat':'home_team_stat', 'team2_stat':'away_team_stat'}, inplace=True)\n",
    "new_data_df.head(1)"
   ]
  },
  {
   "cell_type": "code",
   "execution_count": 7,
   "metadata": {},
   "outputs": [
    {
     "data": {
      "text/plain": [
       "home_team         0\n",
       "home_team_stat    0\n",
       "away_team         0\n",
       "away_team_stat    0\n",
       "dtype: int64"
      ]
     },
     "execution_count": 7,
     "metadata": {},
     "output_type": "execute_result"
    }
   ],
   "source": [
    "# check for null values\n",
    "new_data_df.isnull().sum()"
   ]
  },
  {
   "cell_type": "code",
   "execution_count": 8,
   "metadata": {},
   "outputs": [
    {
     "data": {
      "text/html": [
       "<div>\n",
       "<style scoped>\n",
       "    .dataframe tbody tr th:only-of-type {\n",
       "        vertical-align: middle;\n",
       "    }\n",
       "\n",
       "    .dataframe tbody tr th {\n",
       "        vertical-align: top;\n",
       "    }\n",
       "\n",
       "    .dataframe thead th {\n",
       "        text-align: right;\n",
       "    }\n",
       "</style>\n",
       "<table border=\"1\" class=\"dataframe\">\n",
       "  <thead>\n",
       "    <tr style=\"text-align: right;\">\n",
       "      <th></th>\n",
       "      <th>home_team</th>\n",
       "      <th>home_team_stat</th>\n",
       "      <th>away_team</th>\n",
       "      <th>away_team_stat</th>\n",
       "    </tr>\n",
       "  </thead>\n",
       "  <tbody>\n",
       "    <tr>\n",
       "      <th>0</th>\n",
       "      <td>Arsenal</td>\n",
       "      <td>{'possession_%': '66.8', 'shots_on_target': '4...</td>\n",
       "      <td>Newcastle United</td>\n",
       "      <td>{'possession_%': '33.2', 'shots_on_target': '1...</td>\n",
       "    </tr>\n",
       "    <tr>\n",
       "      <th>1</th>\n",
       "      <td>Everton</td>\n",
       "      <td>{'possession_%': '48.9', 'shots_on_target': '4...</td>\n",
       "      <td>Brighton and Hove Albion</td>\n",
       "      <td>{'possession_%': '51.1', 'shots_on_target': '8...</td>\n",
       "    </tr>\n",
       "    <tr>\n",
       "      <th>2</th>\n",
       "      <td>Leicester City</td>\n",
       "      <td>{'possession_%': '61.2', 'shots_on_target': '6...</td>\n",
       "      <td>Fulham</td>\n",
       "      <td>{'possession_%': '38.8', 'shots_on_target': '2...</td>\n",
       "    </tr>\n",
       "    <tr>\n",
       "      <th>3</th>\n",
       "      <td>Manchester United</td>\n",
       "      <td>{'possession_%': '58.5', 'shots_on_target': '6...</td>\n",
       "      <td>Bournemouth</td>\n",
       "      <td>{'possession_%': '41.5', 'shots_on_target': '4...</td>\n",
       "    </tr>\n",
       "    <tr>\n",
       "      <th>4</th>\n",
       "      <td>Brentford</td>\n",
       "      <td>{'possession_%': '27', 'shots_on_target': '7',...</td>\n",
       "      <td>Liverpool</td>\n",
       "      <td>{'possession_%': '73', 'shots_on_target': '6',...</td>\n",
       "    </tr>\n",
       "    <tr>\n",
       "      <th>5</th>\n",
       "      <td>Brighton and Hove Albion</td>\n",
       "      <td>{'possession_%': '67.8', 'shots_on_target': '5...</td>\n",
       "      <td>Arsenal</td>\n",
       "      <td>{'possession_%': '32.2', 'shots_on_target': '7...</td>\n",
       "    </tr>\n",
       "    <tr>\n",
       "      <th>6</th>\n",
       "      <td>Tottenham Hotspur</td>\n",
       "      <td>{'possession_%': '59.3', 'shots_on_target': '2...</td>\n",
       "      <td>Aston Villa</td>\n",
       "      <td>{'possession_%': '40.7', 'shots_on_target': '4...</td>\n",
       "    </tr>\n",
       "    <tr>\n",
       "      <th>7</th>\n",
       "      <td>Nottingham Forest</td>\n",
       "      <td>{'possession_%': '27.7', 'shots_on_target': '5...</td>\n",
       "      <td>Chelsea</td>\n",
       "      <td>{'possession_%': '72.3', 'shots_on_target': '2...</td>\n",
       "    </tr>\n",
       "    <tr>\n",
       "      <th>8</th>\n",
       "      <td>West Ham United</td>\n",
       "      <td>{'possession_%': 'West', 'shots_on_target': '6...</td>\n",
       "      <td>Brentford</td>\n",
       "      <td>{'possession_%': 'Brentford', 'shots_on_target...</td>\n",
       "    </tr>\n",
       "    <tr>\n",
       "      <th>9</th>\n",
       "      <td>Liverpool</td>\n",
       "      <td>{'possession_%': '57', 'shots_on_target': '5',...</td>\n",
       "      <td>Leicester City</td>\n",
       "      <td>{'possession_%': '43', 'shots_on_target': '2',...</td>\n",
       "    </tr>\n",
       "  </tbody>\n",
       "</table>\n",
       "</div>"
      ],
      "text/plain": [
       "                  home_team  \\\n",
       "0                   Arsenal   \n",
       "1                   Everton   \n",
       "2            Leicester City   \n",
       "3         Manchester United   \n",
       "4                 Brentford   \n",
       "5  Brighton and Hove Albion   \n",
       "6         Tottenham Hotspur   \n",
       "7         Nottingham Forest   \n",
       "8           West Ham United   \n",
       "9                 Liverpool   \n",
       "\n",
       "                                      home_team_stat  \\\n",
       "0  {'possession_%': '66.8', 'shots_on_target': '4...   \n",
       "1  {'possession_%': '48.9', 'shots_on_target': '4...   \n",
       "2  {'possession_%': '61.2', 'shots_on_target': '6...   \n",
       "3  {'possession_%': '58.5', 'shots_on_target': '6...   \n",
       "4  {'possession_%': '27', 'shots_on_target': '7',...   \n",
       "5  {'possession_%': '67.8', 'shots_on_target': '5...   \n",
       "6  {'possession_%': '59.3', 'shots_on_target': '2...   \n",
       "7  {'possession_%': '27.7', 'shots_on_target': '5...   \n",
       "8  {'possession_%': 'West', 'shots_on_target': '6...   \n",
       "9  {'possession_%': '57', 'shots_on_target': '5',...   \n",
       "\n",
       "                  away_team                                     away_team_stat  \n",
       "0          Newcastle United  {'possession_%': '33.2', 'shots_on_target': '1...  \n",
       "1  Brighton and Hove Albion  {'possession_%': '51.1', 'shots_on_target': '8...  \n",
       "2                    Fulham  {'possession_%': '38.8', 'shots_on_target': '2...  \n",
       "3               Bournemouth  {'possession_%': '41.5', 'shots_on_target': '4...  \n",
       "4                 Liverpool  {'possession_%': '73', 'shots_on_target': '6',...  \n",
       "5                   Arsenal  {'possession_%': '32.2', 'shots_on_target': '7...  \n",
       "6               Aston Villa  {'possession_%': '40.7', 'shots_on_target': '4...  \n",
       "7                   Chelsea  {'possession_%': '72.3', 'shots_on_target': '2...  \n",
       "8                 Brentford  {'possession_%': 'Brentford', 'shots_on_target...  \n",
       "9            Leicester City  {'possession_%': '43', 'shots_on_target': '2',...  "
      ]
     },
     "execution_count": 8,
     "metadata": {},
     "output_type": "execute_result"
    }
   ],
   "source": [
    "# drop the index column\n",
    "new_data_df.reset_index(drop=True, inplace=True)\n",
    "new_data_df.head(10)"
   ]
  },
  {
   "cell_type": "code",
   "execution_count": 9,
   "metadata": {},
   "outputs": [],
   "source": [
    "# normalize the home_team_stat column\n",
    "home_team_stat_df = pd.json_normalize(new_data_df['home_team_stat'])\n",
    "home_team_stat_df.rename(columns=lambda x: 'home_team'+ '_' + x, inplace=True)\n",
    "\n",
    "# normalize the away_team_stat column\n",
    "away_team_stat_df = pd.json_normalize(new_data_df['away_team_stat'])\n",
    "away_team_stat_df.rename(columns=lambda x: 'away_team'+ '_' + x, inplace=True)"
   ]
  },
  {
   "cell_type": "code",
   "execution_count": 10,
   "metadata": {},
   "outputs": [
    {
     "data": {
      "text/html": [
       "<div>\n",
       "<style scoped>\n",
       "    .dataframe tbody tr th:only-of-type {\n",
       "        vertical-align: middle;\n",
       "    }\n",
       "\n",
       "    .dataframe tbody tr th {\n",
       "        vertical-align: top;\n",
       "    }\n",
       "\n",
       "    .dataframe thead th {\n",
       "        text-align: right;\n",
       "    }\n",
       "</style>\n",
       "<table border=\"1\" class=\"dataframe\">\n",
       "  <thead>\n",
       "    <tr style=\"text-align: right;\">\n",
       "      <th></th>\n",
       "      <th>home_team</th>\n",
       "      <th>home_team_stat</th>\n",
       "      <th>away_team</th>\n",
       "      <th>away_team_stat</th>\n",
       "      <th>home_team_possession_%</th>\n",
       "      <th>home_team_shots_on_target</th>\n",
       "      <th>home_team_shots</th>\n",
       "      <th>home_team_touches</th>\n",
       "      <th>home_team_passes</th>\n",
       "      <th>home_team_tackels</th>\n",
       "      <th>...</th>\n",
       "      <th>away_team_shots_on_target</th>\n",
       "      <th>away_team_shots</th>\n",
       "      <th>away_team_touches</th>\n",
       "      <th>away_team_passes</th>\n",
       "      <th>away_team_tackels</th>\n",
       "      <th>away_team_clearances</th>\n",
       "      <th>away_team_corners</th>\n",
       "      <th>away_team_offsides</th>\n",
       "      <th>away_team_yellow_cards</th>\n",
       "      <th>away_team_foul_conceded</th>\n",
       "    </tr>\n",
       "  </thead>\n",
       "  <tbody>\n",
       "    <tr>\n",
       "      <th>0</th>\n",
       "      <td>Arsenal</td>\n",
       "      <td>{'possession_%': '66.8', 'shots_on_target': '4...</td>\n",
       "      <td>Newcastle United</td>\n",
       "      <td>{'possession_%': '33.2', 'shots_on_target': '1...</td>\n",
       "      <td>66.8</td>\n",
       "      <td>4</td>\n",
       "      <td>17</td>\n",
       "      <td>703</td>\n",
       "      <td>536</td>\n",
       "      <td>13</td>\n",
       "      <td>...</td>\n",
       "      <td>1</td>\n",
       "      <td>8</td>\n",
       "      <td>446</td>\n",
       "      <td>253</td>\n",
       "      <td>23</td>\n",
       "      <td>29</td>\n",
       "      <td>5</td>\n",
       "      <td>4</td>\n",
       "      <td>5</td>\n",
       "      <td>16</td>\n",
       "    </tr>\n",
       "  </tbody>\n",
       "</table>\n",
       "<p>1 rows × 26 columns</p>\n",
       "</div>"
      ],
      "text/plain": [
       "  home_team                                     home_team_stat  \\\n",
       "0   Arsenal  {'possession_%': '66.8', 'shots_on_target': '4...   \n",
       "\n",
       "          away_team                                     away_team_stat  \\\n",
       "0  Newcastle United  {'possession_%': '33.2', 'shots_on_target': '1...   \n",
       "\n",
       "  home_team_possession_% home_team_shots_on_target home_team_shots  \\\n",
       "0                   66.8                         4              17   \n",
       "\n",
       "  home_team_touches home_team_passes home_team_tackels  ...  \\\n",
       "0               703              536                13  ...   \n",
       "\n",
       "  away_team_shots_on_target away_team_shots away_team_touches  \\\n",
       "0                         1               8               446   \n",
       "\n",
       "  away_team_passes away_team_tackels away_team_clearances away_team_corners  \\\n",
       "0              253                23                   29                 5   \n",
       "\n",
       "  away_team_offsides away_team_yellow_cards away_team_foul_conceded  \n",
       "0                  4                      5                      16  \n",
       "\n",
       "[1 rows x 26 columns]"
      ]
     },
     "execution_count": 10,
     "metadata": {},
     "output_type": "execute_result"
    }
   ],
   "source": [
    "# join the home_team_stat_df and away_team_stat_df to the new_data_df\n",
    "new_data_df = new_data_df.join([home_team_stat_df, away_team_stat_df])\n",
    "\n",
    "new_data_df.head(1)"
   ]
  },
  {
   "cell_type": "code",
   "execution_count": 11,
   "metadata": {},
   "outputs": [],
   "source": [
    "# drop the home_team_stat and away_team_stat columns\n",
    "new_data_df = new_data_df.drop(['home_team_stat', 'away_team_stat'], axis=1)\n"
   ]
  },
  {
   "cell_type": "code",
   "execution_count": 12,
   "metadata": {},
   "outputs": [
    {
     "data": {
      "text/html": [
       "<div>\n",
       "<style scoped>\n",
       "    .dataframe tbody tr th:only-of-type {\n",
       "        vertical-align: middle;\n",
       "    }\n",
       "\n",
       "    .dataframe tbody tr th {\n",
       "        vertical-align: top;\n",
       "    }\n",
       "\n",
       "    .dataframe thead th {\n",
       "        text-align: right;\n",
       "    }\n",
       "</style>\n",
       "<table border=\"1\" class=\"dataframe\">\n",
       "  <thead>\n",
       "    <tr style=\"text-align: right;\">\n",
       "      <th></th>\n",
       "      <th>home_team</th>\n",
       "      <th>away_team</th>\n",
       "      <th>home_team_possession_%</th>\n",
       "      <th>home_team_shots_on_target</th>\n",
       "      <th>home_team_shots</th>\n",
       "      <th>home_team_touches</th>\n",
       "      <th>home_team_passes</th>\n",
       "      <th>home_team_tackels</th>\n",
       "      <th>home_team_clearances</th>\n",
       "      <th>home_team_corners</th>\n",
       "      <th>...</th>\n",
       "      <th>away_team_shots_on_target</th>\n",
       "      <th>away_team_shots</th>\n",
       "      <th>away_team_touches</th>\n",
       "      <th>away_team_passes</th>\n",
       "      <th>away_team_tackels</th>\n",
       "      <th>away_team_clearances</th>\n",
       "      <th>away_team_corners</th>\n",
       "      <th>away_team_offsides</th>\n",
       "      <th>away_team_yellow_cards</th>\n",
       "      <th>away_team_foul_conceded</th>\n",
       "    </tr>\n",
       "  </thead>\n",
       "  <tbody>\n",
       "    <tr>\n",
       "      <th>0</th>\n",
       "      <td>Arsenal</td>\n",
       "      <td>Newcastle United</td>\n",
       "      <td>66.8</td>\n",
       "      <td>4</td>\n",
       "      <td>17</td>\n",
       "      <td>703</td>\n",
       "      <td>536</td>\n",
       "      <td>13</td>\n",
       "      <td>17</td>\n",
       "      <td>5</td>\n",
       "      <td>...</td>\n",
       "      <td>1</td>\n",
       "      <td>8</td>\n",
       "      <td>446</td>\n",
       "      <td>253</td>\n",
       "      <td>23</td>\n",
       "      <td>29</td>\n",
       "      <td>5</td>\n",
       "      <td>4</td>\n",
       "      <td>5</td>\n",
       "      <td>16</td>\n",
       "    </tr>\n",
       "  </tbody>\n",
       "</table>\n",
       "<p>1 rows × 24 columns</p>\n",
       "</div>"
      ],
      "text/plain": [
       "  home_team         away_team home_team_possession_%  \\\n",
       "0   Arsenal  Newcastle United                   66.8   \n",
       "\n",
       "  home_team_shots_on_target home_team_shots home_team_touches  \\\n",
       "0                         4              17               703   \n",
       "\n",
       "  home_team_passes home_team_tackels home_team_clearances home_team_corners  \\\n",
       "0              536                13                   17                 5   \n",
       "\n",
       "   ... away_team_shots_on_target away_team_shots away_team_touches  \\\n",
       "0  ...                         1               8               446   \n",
       "\n",
       "  away_team_passes away_team_tackels away_team_clearances away_team_corners  \\\n",
       "0              253                23                   29                 5   \n",
       "\n",
       "  away_team_offsides away_team_yellow_cards away_team_foul_conceded  \n",
       "0                  4                      5                      16  \n",
       "\n",
       "[1 rows x 24 columns]"
      ]
     },
     "execution_count": 12,
     "metadata": {},
     "output_type": "execute_result"
    }
   ],
   "source": [
    "# visualize the new_data_df\n",
    "new_data_df.head(1)"
   ]
  },
  {
   "cell_type": "code",
   "execution_count": 16,
   "metadata": {},
   "outputs": [
    {
     "data": {
      "text/html": [
       "<div>\n",
       "<style scoped>\n",
       "    .dataframe tbody tr th:only-of-type {\n",
       "        vertical-align: middle;\n",
       "    }\n",
       "\n",
       "    .dataframe tbody tr th {\n",
       "        vertical-align: top;\n",
       "    }\n",
       "\n",
       "    .dataframe thead th {\n",
       "        text-align: right;\n",
       "    }\n",
       "</style>\n",
       "<table border=\"1\" class=\"dataframe\">\n",
       "  <thead>\n",
       "    <tr style=\"text-align: right;\">\n",
       "      <th></th>\n",
       "      <th>event</th>\n",
       "    </tr>\n",
       "  </thead>\n",
       "  <tbody>\n",
       "    <tr>\n",
       "      <th>75091</th>\n",
       "      <td>[Full-time Match ends, Arsenal 0, Newcastle Un...</td>\n",
       "    </tr>\n",
       "  </tbody>\n",
       "</table>\n",
       "</div>"
      ],
      "text/plain": [
       "                                                   event\n",
       "75091  [Full-time Match ends, Arsenal 0, Newcastle Un..."
      ]
     },
     "execution_count": 16,
     "metadata": {},
     "output_type": "execute_result"
    }
   ],
   "source": [
    "# create a new column called result\n",
    "event_df = event_df.to_frame() # convert the event_df to a data frame\n",
    "event_df.head(1)"
   ]
  },
  {
   "cell_type": "code",
   "execution_count": 30,
   "metadata": {},
   "outputs": [],
   "source": [
    "end_score_df = event_df['event'].map(lambda x: x).str[0]\n",
    "end_score_df.reset_index(drop=True, inplace=True)"
   ]
  },
  {
   "cell_type": "code",
   "execution_count": 31,
   "metadata": {},
   "outputs": [
    {
     "name": "stdout",
     "output_type": "stream",
     "text": [
      "0      Full-time Match ends, Arsenal 0, Newcastle Uni...\n",
      "1      Full-time Match ends, Everton 1, Brighton and ...\n",
      "2      Full-time Match ends, Leicester City 0, Fulham 1.\n",
      "3      Full-time Match ends, Manchester United 3, Bou...\n",
      "4        Full-time Match ends, Brentford 3, Liverpool 1.\n",
      "                             ...                        \n",
      "204    Full-time Match ends, Aston Villa 2, Leicester...\n",
      "205    Full-time Match ends, Brentford 3, Southampton 0.\n",
      "206    Full-time Match ends, Brighton and Hove Albion...\n",
      "207    Full-time Match ends, Manchester United 2, Cry...\n",
      "208    Full-time Match ends, Wolverhampton Wanderers ...\n",
      "Name: event, Length: 209, dtype: object\n"
     ]
    }
   ],
   "source": [
    "print(end_score_df)"
   ]
  },
  {
   "cell_type": "code",
   "execution_count": 32,
   "metadata": {},
   "outputs": [],
   "source": [
    "new_data_df.loc[:, 'result'] = end_score_df"
   ]
  },
  {
   "cell_type": "code",
   "execution_count": null,
   "metadata": {},
   "outputs": [],
   "source": [
    "new_data_df.head(10)"
   ]
  },
  {
   "cell_type": "code",
   "execution_count": null,
   "metadata": {},
   "outputs": [],
   "source": [
    "# Create Chelsea data frame\n",
    "chelsea_df = new_data_df[(new_data_df['home_team']=='Chelsea') | (new_data_df['away_team']=='Chelsea')]\n",
    "chelsea_df.head(10)"
   ]
  },
  {
   "cell_type": "code",
   "execution_count": 36,
   "metadata": {},
   "outputs": [],
   "source": [
    "# reset the index\n",
    "chelsea_df.reset_index(drop=True, inplace=True)\n"
   ]
  },
  {
   "cell_type": "code",
   "execution_count": 38,
   "metadata": {},
   "outputs": [],
   "source": [
    "# convert the dataframe to a csv file\n",
    "chelsea_df.to_csv('epl-dataset/chelsea.csv', index=False)\n",
    "\n"
   ]
  }
 ],
 "metadata": {
  "kernelspec": {
   "display_name": ".venv",
   "language": "python",
   "name": "python3"
  },
  "language_info": {
   "codemirror_mode": {
    "name": "ipython",
    "version": 3
   },
   "file_extension": ".py",
   "mimetype": "text/x-python",
   "name": "python",
   "nbconvert_exporter": "python",
   "pygments_lexer": "ipython3",
   "version": "3.8.2"
  }
 },
 "nbformat": 4,
 "nbformat_minor": 2
}
