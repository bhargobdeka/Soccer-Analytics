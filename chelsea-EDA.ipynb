{
 "cells": [
  {
   "cell_type": "code",
   "execution_count": 1,
   "metadata": {},
   "outputs": [],
   "source": [
    "import numpy as np\n",
    "import pandas as pd"
   ]
  },
  {
   "cell_type": "code",
   "execution_count": 2,
   "metadata": {},
   "outputs": [
    {
     "data": {
      "text/html": [
       "<div>\n",
       "<style scoped>\n",
       "    .dataframe tbody tr th:only-of-type {\n",
       "        vertical-align: middle;\n",
       "    }\n",
       "\n",
       "    .dataframe tbody tr th {\n",
       "        vertical-align: top;\n",
       "    }\n",
       "\n",
       "    .dataframe thead th {\n",
       "        text-align: right;\n",
       "    }\n",
       "</style>\n",
       "<table border=\"1\" class=\"dataframe\">\n",
       "  <thead>\n",
       "    <tr style=\"text-align: right;\">\n",
       "      <th></th>\n",
       "      <th>home_team</th>\n",
       "      <th>away_team</th>\n",
       "      <th>home_team_possession_%</th>\n",
       "      <th>home_team_shots_on_target</th>\n",
       "      <th>home_team_shots</th>\n",
       "      <th>home_team_touches</th>\n",
       "      <th>home_team_passes</th>\n",
       "      <th>home_team_tackels</th>\n",
       "      <th>home_team_clearances</th>\n",
       "      <th>home_team_corners</th>\n",
       "      <th>...</th>\n",
       "      <th>away_team_shots</th>\n",
       "      <th>away_team_touches</th>\n",
       "      <th>away_team_passes</th>\n",
       "      <th>away_team_tackels</th>\n",
       "      <th>away_team_clearances</th>\n",
       "      <th>away_team_corners</th>\n",
       "      <th>away_team_offsides</th>\n",
       "      <th>away_team_yellow_cards</th>\n",
       "      <th>away_team_foul_conceded</th>\n",
       "      <th>result</th>\n",
       "    </tr>\n",
       "  </thead>\n",
       "  <tbody>\n",
       "    <tr>\n",
       "      <th>0</th>\n",
       "      <td>Nottingham Forest</td>\n",
       "      <td>Chelsea</td>\n",
       "      <td>27.7</td>\n",
       "      <td>5.0</td>\n",
       "      <td>12</td>\n",
       "      <td>432</td>\n",
       "      <td>256</td>\n",
       "      <td>18</td>\n",
       "      <td>15</td>\n",
       "      <td>1</td>\n",
       "      <td>...</td>\n",
       "      <td>7</td>\n",
       "      <td>867</td>\n",
       "      <td>697</td>\n",
       "      <td>16</td>\n",
       "      <td>18</td>\n",
       "      <td>2</td>\n",
       "      <td>2</td>\n",
       "      <td>2</td>\n",
       "      <td>14</td>\n",
       "      <td>Full-time Match ends, Nottingham Forest 1, Che...</td>\n",
       "    </tr>\n",
       "    <tr>\n",
       "      <th>1</th>\n",
       "      <td>Chelsea</td>\n",
       "      <td>Bournemouth</td>\n",
       "      <td>Chelsea</td>\n",
       "      <td>60.3</td>\n",
       "      <td>5</td>\n",
       "      <td>15</td>\n",
       "      <td>741</td>\n",
       "      <td>563</td>\n",
       "      <td>18</td>\n",
       "      <td>24</td>\n",
       "      <td>...</td>\n",
       "      <td>4</td>\n",
       "      <td>9</td>\n",
       "      <td>535</td>\n",
       "      <td>357</td>\n",
       "      <td>18</td>\n",
       "      <td>15</td>\n",
       "      <td>8</td>\n",
       "      <td>0</td>\n",
       "      <td>10</td>\n",
       "      <td>Full-time Match ends, Chelsea 2, Bournemouth 0.</td>\n",
       "    </tr>\n",
       "    <tr>\n",
       "      <th>2</th>\n",
       "      <td>Newcastle United</td>\n",
       "      <td>Chelsea</td>\n",
       "      <td>48.9</td>\n",
       "      <td>3.0</td>\n",
       "      <td>10</td>\n",
       "      <td>635</td>\n",
       "      <td>451</td>\n",
       "      <td>23</td>\n",
       "      <td>13</td>\n",
       "      <td>5</td>\n",
       "      <td>...</td>\n",
       "      <td>5</td>\n",
       "      <td>668</td>\n",
       "      <td>471</td>\n",
       "      <td>23</td>\n",
       "      <td>20</td>\n",
       "      <td>3</td>\n",
       "      <td>0</td>\n",
       "      <td>2</td>\n",
       "      <td>11</td>\n",
       "      <td>Full-time Match ends, Newcastle United 1, Chel...</td>\n",
       "    </tr>\n",
       "    <tr>\n",
       "      <th>3</th>\n",
       "      <td>Chelsea</td>\n",
       "      <td>Arsenal</td>\n",
       "      <td>44.3</td>\n",
       "      <td>1.0</td>\n",
       "      <td>5</td>\n",
       "      <td>536</td>\n",
       "      <td>360</td>\n",
       "      <td>24</td>\n",
       "      <td>19</td>\n",
       "      <td>4</td>\n",
       "      <td>...</td>\n",
       "      <td>14</td>\n",
       "      <td>662</td>\n",
       "      <td>452</td>\n",
       "      <td>17</td>\n",
       "      <td>22</td>\n",
       "      <td>6</td>\n",
       "      <td>0</td>\n",
       "      <td>2</td>\n",
       "      <td>13</td>\n",
       "      <td>Full-time Match ends, Chelsea 0, Arsenal 1.</td>\n",
       "    </tr>\n",
       "    <tr>\n",
       "      <th>4</th>\n",
       "      <td>Brighton and Hove Albion</td>\n",
       "      <td>Chelsea</td>\n",
       "      <td>Brighton</td>\n",
       "      <td>41.0</td>\n",
       "      <td>9</td>\n",
       "      <td>19</td>\n",
       "      <td>544</td>\n",
       "      <td>349</td>\n",
       "      <td>18</td>\n",
       "      <td>21</td>\n",
       "      <td>...</td>\n",
       "      <td>7</td>\n",
       "      <td>15</td>\n",
       "      <td>707</td>\n",
       "      <td>513</td>\n",
       "      <td>8</td>\n",
       "      <td>16</td>\n",
       "      <td>7</td>\n",
       "      <td>2</td>\n",
       "      <td>6</td>\n",
       "      <td>Full-time Match ends, Brighton and Hove Albion...</td>\n",
       "    </tr>\n",
       "  </tbody>\n",
       "</table>\n",
       "<p>5 rows × 25 columns</p>\n",
       "</div>"
      ],
      "text/plain": [
       "                  home_team    away_team home_team_possession_%  \\\n",
       "0         Nottingham Forest      Chelsea                   27.7   \n",
       "1                   Chelsea  Bournemouth                Chelsea   \n",
       "2          Newcastle United      Chelsea                   48.9   \n",
       "3                   Chelsea      Arsenal                   44.3   \n",
       "4  Brighton and Hove Albion      Chelsea               Brighton   \n",
       "\n",
       "   home_team_shots_on_target  home_team_shots  home_team_touches  \\\n",
       "0                        5.0               12                432   \n",
       "1                       60.3                5                 15   \n",
       "2                        3.0               10                635   \n",
       "3                        1.0                5                536   \n",
       "4                       41.0                9                 19   \n",
       "\n",
       "   home_team_passes  home_team_tackels  home_team_clearances  \\\n",
       "0               256                 18                    15   \n",
       "1               741                563                    18   \n",
       "2               451                 23                    13   \n",
       "3               360                 24                    19   \n",
       "4               544                349                    18   \n",
       "\n",
       "   home_team_corners  ...  away_team_shots  away_team_touches  \\\n",
       "0                  1  ...                7                867   \n",
       "1                 24  ...                4                  9   \n",
       "2                  5  ...                5                668   \n",
       "3                  4  ...               14                662   \n",
       "4                 21  ...                7                 15   \n",
       "\n",
       "   away_team_passes away_team_tackels  away_team_clearances  \\\n",
       "0               697                16                    18   \n",
       "1               535               357                    18   \n",
       "2               471                23                    20   \n",
       "3               452                17                    22   \n",
       "4               707               513                     8   \n",
       "\n",
       "   away_team_corners  away_team_offsides  away_team_yellow_cards  \\\n",
       "0                  2                   2                       2   \n",
       "1                 15                   8                       0   \n",
       "2                  3                   0                       2   \n",
       "3                  6                   0                       2   \n",
       "4                 16                   7                       2   \n",
       "\n",
       "   away_team_foul_conceded                                             result  \n",
       "0                       14  Full-time Match ends, Nottingham Forest 1, Che...  \n",
       "1                       10    Full-time Match ends, Chelsea 2, Bournemouth 0.  \n",
       "2                       11  Full-time Match ends, Newcastle United 1, Chel...  \n",
       "3                       13        Full-time Match ends, Chelsea 0, Arsenal 1.  \n",
       "4                        6  Full-time Match ends, Brighton and Hove Albion...  \n",
       "\n",
       "[5 rows x 25 columns]"
      ]
     },
     "execution_count": 2,
     "metadata": {},
     "output_type": "execute_result"
    }
   ],
   "source": [
    "# load data\n",
    "chelsea_df = pd.read_csv('epl-dataset/chelsea.csv')\n",
    "chelsea_df.head(5)"
   ]
  },
  {
   "cell_type": "code",
   "execution_count": 19,
   "metadata": {},
   "outputs": [
    {
     "data": {
      "text/plain": [
       "21"
      ]
     },
     "execution_count": 19,
     "metadata": {},
     "output_type": "execute_result"
    }
   ],
   "source": [
    "end_scores_df = chelsea_df['result']\n",
    "end_scores_df.head(5)\n"
   ]
  },
  {
   "cell_type": "code",
   "execution_count": 20,
   "metadata": {},
   "outputs": [
    {
     "name": "stdout",
     "output_type": "stream",
     "text": [
      "Draw\n"
     ]
    }
   ],
   "source": [
    "# get the scores of both teams\n",
    "import re\n",
    "pattern = r'([A-Za-z\\s]+) (\\d+), ([A-Za-z\\s]+) (\\d+)'\n",
    "\n",
    "match = re.search(pattern, end_scores_df[0])\n",
    "home_team_score = int(match.group(2))\n",
    "away_team_score = int(match.group(4))\n",
    "goal_difference = abs(home_team_score - away_team_score)\n",
    "\n",
    "# find the winner, loser, and draw\n",
    "if home_team_score > away_team_score:\n",
    "    result = match.group(1)\n",
    "    \n",
    "elif home_team_score < away_team_score:\n",
    "    result = match.group(3)\n",
    "    \n",
    "else:\n",
    "    result = 'Draw'\n",
    "    \n",
    "print(result)\n"
   ]
  },
  {
   "cell_type": "code",
   "execution_count": 21,
   "metadata": {},
   "outputs": [],
   "source": [
    "# create the function\n",
    "pattern = r'([A-Za-z\\s]+) (\\d+), ([A-Za-z\\s]+) (\\d+)'\n",
    "home_team_scores = []\n",
    "away_team_scores = []\n",
    "goal_differences = []\n",
    "results = []\n",
    "\n",
    "for i in range(len(end_scores_df)):\n",
    "    match = re.search(pattern, end_scores_df[i])\n",
    "    home_team_score = int(match.group(2))\n",
    "    away_team_score = int(match.group(4))\n",
    "    goal_difference = abs(home_team_score - away_team_score)\n",
    "\n",
    "    # find the winner, loser, and draw\n",
    "    if home_team_score > away_team_score:\n",
    "        result = match.group(1)\n",
    "\n",
    "    elif home_team_score < away_team_score:\n",
    "        result = match.group(3)\n",
    "\n",
    "    else:\n",
    "        result = 'Draw'\n",
    "\n",
    "    home_team_scores.append(home_team_score)\n",
    "    away_team_scores.append(away_team_score)\n",
    "    goal_differences.append(goal_difference)\n",
    "    results.append(result)\n",
    "    \n"
   ]
  },
  {
   "cell_type": "code",
   "execution_count": 26,
   "metadata": {},
   "outputs": [],
   "source": [
    "# add the new columns to the dataframe\n",
    "chelsea_df['home_team_score'] = home_team_scores\n",
    "chelsea_df['away_team_score'] = away_team_scores\n",
    "chelsea_df['goal_difference'] = goal_differences\n",
    "chelsea_df['result'] = results"
   ]
  },
  {
   "cell_type": "code",
   "execution_count": 78,
   "metadata": {},
   "outputs": [
    {
     "data": {
      "text/html": [
       "<div>\n",
       "<style scoped>\n",
       "    .dataframe tbody tr th:only-of-type {\n",
       "        vertical-align: middle;\n",
       "    }\n",
       "\n",
       "    .dataframe tbody tr th {\n",
       "        vertical-align: top;\n",
       "    }\n",
       "\n",
       "    .dataframe thead th {\n",
       "        text-align: right;\n",
       "    }\n",
       "</style>\n",
       "<table border=\"1\" class=\"dataframe\">\n",
       "  <thead>\n",
       "    <tr style=\"text-align: right;\">\n",
       "      <th></th>\n",
       "      <th>home_team</th>\n",
       "      <th>away_team</th>\n",
       "      <th>home_team_possession_%</th>\n",
       "      <th>home_team_shots_on_target</th>\n",
       "      <th>home_team_shots</th>\n",
       "      <th>home_team_touches</th>\n",
       "      <th>home_team_passes</th>\n",
       "      <th>home_team_tackels</th>\n",
       "      <th>home_team_clearances</th>\n",
       "      <th>home_team_corners</th>\n",
       "      <th>...</th>\n",
       "      <th>away_team_tackels</th>\n",
       "      <th>away_team_clearances</th>\n",
       "      <th>away_team_corners</th>\n",
       "      <th>away_team_offsides</th>\n",
       "      <th>away_team_yellow_cards</th>\n",
       "      <th>away_team_foul_conceded</th>\n",
       "      <th>result</th>\n",
       "      <th>home_team_score</th>\n",
       "      <th>away_team_score</th>\n",
       "      <th>goal_difference</th>\n",
       "    </tr>\n",
       "  </thead>\n",
       "  <tbody>\n",
       "    <tr>\n",
       "      <th>0</th>\n",
       "      <td>Nottingham Forest</td>\n",
       "      <td>Chelsea</td>\n",
       "      <td>27.7</td>\n",
       "      <td>5.0</td>\n",
       "      <td>12</td>\n",
       "      <td>432</td>\n",
       "      <td>256</td>\n",
       "      <td>18</td>\n",
       "      <td>15</td>\n",
       "      <td>1</td>\n",
       "      <td>...</td>\n",
       "      <td>16</td>\n",
       "      <td>18</td>\n",
       "      <td>2</td>\n",
       "      <td>2</td>\n",
       "      <td>2</td>\n",
       "      <td>14</td>\n",
       "      <td>Draw</td>\n",
       "      <td>1</td>\n",
       "      <td>1</td>\n",
       "      <td>0</td>\n",
       "    </tr>\n",
       "    <tr>\n",
       "      <th>1</th>\n",
       "      <td>Chelsea</td>\n",
       "      <td>Bournemouth</td>\n",
       "      <td>Chelsea</td>\n",
       "      <td>60.3</td>\n",
       "      <td>5</td>\n",
       "      <td>15</td>\n",
       "      <td>741</td>\n",
       "      <td>563</td>\n",
       "      <td>18</td>\n",
       "      <td>24</td>\n",
       "      <td>...</td>\n",
       "      <td>357</td>\n",
       "      <td>18</td>\n",
       "      <td>15</td>\n",
       "      <td>8</td>\n",
       "      <td>0</td>\n",
       "      <td>10</td>\n",
       "      <td>Chelsea</td>\n",
       "      <td>2</td>\n",
       "      <td>0</td>\n",
       "      <td>2</td>\n",
       "    </tr>\n",
       "  </tbody>\n",
       "</table>\n",
       "<p>2 rows × 28 columns</p>\n",
       "</div>"
      ],
      "text/plain": [
       "           home_team    away_team home_team_possession_%  \\\n",
       "0  Nottingham Forest      Chelsea                   27.7   \n",
       "1            Chelsea  Bournemouth                Chelsea   \n",
       "\n",
       "   home_team_shots_on_target  home_team_shots  home_team_touches  \\\n",
       "0                        5.0               12                432   \n",
       "1                       60.3                5                 15   \n",
       "\n",
       "   home_team_passes  home_team_tackels  home_team_clearances  \\\n",
       "0               256                 18                    15   \n",
       "1               741                563                    18   \n",
       "\n",
       "   home_team_corners  ...  away_team_tackels  away_team_clearances  \\\n",
       "0                  1  ...                 16                    18   \n",
       "1                 24  ...                357                    18   \n",
       "\n",
       "   away_team_corners away_team_offsides  away_team_yellow_cards  \\\n",
       "0                  2                  2                       2   \n",
       "1                 15                  8                       0   \n",
       "\n",
       "   away_team_foul_conceded    result  home_team_score  away_team_score  \\\n",
       "0                       14      Draw                1                1   \n",
       "1                       10   Chelsea                2                0   \n",
       "\n",
       "   goal_difference  \n",
       "0                0  \n",
       "1                2  \n",
       "\n",
       "[2 rows x 28 columns]"
      ]
     },
     "execution_count": 78,
     "metadata": {},
     "output_type": "execute_result"
    }
   ],
   "source": [
    "chelsea_df.head(2)"
   ]
  },
  {
   "cell_type": "code",
   "execution_count": 65,
   "metadata": {},
   "outputs": [],
   "source": [
    "# remove spaces from column names in the dataframe\n",
    "chelsea_df.columns = chelsea_df.columns.str.strip()\n",
    "\n",
    "# chelsea home and away dataframes\n",
    "chelsea_home_df = chelsea_df[(chelsea_df['home_team']=='Chelsea')]\n",
    "# reset the index\n",
    "chelsea_home_df.reset_index(inplace=True, drop=True)\n",
    "\n",
    "chelsea_away_df = chelsea_df[(chelsea_df['away_team']=='Chelsea')]\n",
    "chelsea_away_df.reset_index(inplace=True, drop=True)"
   ]
  },
  {
   "cell_type": "code",
   "execution_count": 70,
   "metadata": {},
   "outputs": [
    {
     "data": {
      "text/plain": [
       "'Chelsea'"
      ]
     },
     "execution_count": 70,
     "metadata": {},
     "output_type": "execute_result"
    }
   ],
   "source": [
    "# remove spaces from result column\n",
    "chelsea_home_df.loc[:,'result'] = chelsea_home_df['result'].str.strip() \n",
    "chelsea_away_df.loc[:,'result'] = chelsea_away_df['result'].str.strip() \n",
    "\n"
   ]
  },
  {
   "cell_type": "markdown",
   "metadata": {},
   "source": [
    "## 1. Home vs Away in terms of wins, draws, and losses"
   ]
  },
  {
   "cell_type": "code",
   "execution_count": 81,
   "metadata": {},
   "outputs": [
    {
     "data": {
      "image/png": "[encoded data removed]",
      "text/plain": [
       "<Figure size 640x480 with 1 Axes>"
      ]
     },
     "metadata": {},
     "output_type": "display_data"
    }
   ],
   "source": [
    "# Home vs Away in terms of wins, draws, and losses\n",
    "home_wins = chelsea_home_df['result'].value_counts()['Chelsea']\n",
    "home_draws = chelsea_home_df['result'].value_counts()['Draw']\n",
    "home_losses = len(chelsea_home_df) - (home_wins + home_draws)\n",
    "\n",
    "away_wins = chelsea_away_df['result'].value_counts()['Chelsea']\n",
    "away_draws = chelsea_away_df['result'].value_counts()['Draw']\n",
    "away_losses = len(chelsea_away_df) - (away_wins + away_draws)\n",
    "\n",
    "# visualize the results\n",
    "import matplotlib.pyplot as plt\n",
    "# Define labels and data\n",
    "labels = ['Wins', 'Draws', 'Losses']\n",
    "home_data = [home_wins, home_draws, home_losses]\n",
    "away_data = [away_wins, away_draws, away_losses]\n",
    "\n",
    "# Plotting bar plots\n",
    "fig, ax = plt.subplots()\n",
    "\n",
    "# Bar width can be adjusted as needed\n",
    "bar_width = 0.35\n",
    "bar_positions_home = range(len(labels))\n",
    "bar_positions_away = [pos + bar_width for pos in bar_positions_home]\n",
    "\n",
    "ax.bar(bar_positions_home, home_data, width=bar_width, label='Home')\n",
    "ax.bar(bar_positions_away, away_data, width=bar_width, label='Away')\n",
    "\n",
    "# Adding labels and title\n",
    "ax.set_xlabel('Result')\n",
    "ax.set_ylabel('Count')\n",
    "ax.set_title('Home vs. Away Performance: Wins, Draws, and Losses')\n",
    "ax.set_xticks([pos + bar_width/2 for pos in bar_positions_home])\n",
    "ax.set_xticklabels(labels)\n",
    "ax.legend()\n",
    "\n",
    "# Show the plot\n",
    "plt.show()\n",
    "\n",
    "\n"
   ]
  },
  {
   "cell_type": "markdown",
   "metadata": {},
   "source": [
    "## 2. Home vs Away in terms of goals scored and conceded"
   ]
  },
  {
   "cell_type": "code",
   "execution_count": 82,
   "metadata": {},
   "outputs": [
    {
     "data": {
      "image/png": "[encoded data removed]",
      "text/plain": [
       "<Figure size 640x480 with 1 Axes>"
      ]
     },
     "metadata": {},
     "output_type": "display_data"
    }
   ],
   "source": [
    "# Home vs Away in terms of goals scored\n",
    "home_goals_scored = chelsea_home_df['home_team_score'].sum()\n",
    "home_goals_conceded = chelsea_home_df['away_team_score'].sum()\n",
    "\n",
    "away_goals_scored = chelsea_away_df['away_team_score'].sum()\n",
    "away_goals_conceded = chelsea_away_df['home_team_score'].sum()\n",
    "\n",
    "# define labels and data\n",
    "labels = ['Goals Scored', 'Goal Conceded']\n",
    "home_data = [home_goals_scored, home_goals_conceded]\n",
    "away_data = [away_goals_scored, away_goals_conceded]\n",
    "\n",
    "fig, ax = plt.subplots()\n",
    "\n",
    "# Bar width can be adjusted as needed\n",
    "bar_width = 0.35\n",
    "bar_positions_home = range(len(labels))\n",
    "bar_positions_away = [pos + bar_width for pos in bar_positions_home]\n",
    "\n",
    "ax.bar(bar_positions_home, home_data, width=bar_width, label='Home')\n",
    "ax.bar(bar_positions_away, away_data, width=bar_width, label='Away')\n",
    "\n",
    "# Adding labels and title\n",
    "ax.set_xlabel('Result')\n",
    "ax.set_ylabel('Count')\n",
    "ax.set_title('Home vs. Away Performance: Goals Scored and Conceded')\n",
    "ax.set_xticks([pos + bar_width/2 for pos in bar_positions_home])\n",
    "ax.set_xticklabels(labels)\n",
    "ax.legend()\n",
    "\n",
    "# Show the plot\n",
    "plt.show()"
   ]
  },
  {
   "cell_type": "code",
   "execution_count": 84,
   "metadata": {},
   "outputs": [
    {
     "data": {
      "image/png": "[encoded data removed]",
      "text/plain": [
       "<Figure size 640x480 with 1 Axes>"
      ]
     },
     "metadata": {},
     "output_type": "display_data"
    }
   ],
   "source": [
    "#  Discipline metrics: home vs away\n",
    "home_yellow_cards = chelsea_home_df['home_team_yellow_cards'].sum()\n",
    "home_fouls = chelsea_home_df['home_team_foul_conceded'].sum()\n",
    "\n",
    "away_yellow_cards = chelsea_away_df['away_team_yellow_cards'].sum()\n",
    "away_fouls = chelsea_away_df['away_team_foul_conceded'].sum()\n",
    "\n",
    "# define labels and data\n",
    "labels = ['Yellow Cards', 'Fouls Conceded']\n",
    "home_data = [home_yellow_cards, home_fouls]\n",
    "away_data = [away_yellow_cards, away_fouls]\n",
    "\n",
    "fig, ax = plt.subplots()\n",
    "\n",
    "# Bar width can be adjusted as needed\n",
    "bar_width = 0.35\n",
    "bar_positions_home = range(len(labels))\n",
    "bar_positions_away = [pos + bar_width for pos in bar_positions_home]\n",
    "\n",
    "ax.bar(bar_positions_home, home_data, width=bar_width, label='Home')\n",
    "ax.bar(bar_positions_away, away_data, width=bar_width, label='Away')\n",
    "\n",
    "# Adding labels and title\n",
    "ax.set_xlabel('Result')\n",
    "ax.set_ylabel('Count')\n",
    "ax.set_title('Home vs. Away Performance: Yellow Cards and Fouls Conceded')\n",
    "ax.set_xticks([pos + bar_width/2 for pos in bar_positions_home])\n",
    "ax.set_xticklabels(labels)\n",
    "ax.legend()\n",
    "\n",
    "# Show the plot\n",
    "plt.show()"
   ]
  },
  {
   "cell_type": "markdown",
   "metadata": {},
   "source": [
    "### This is interesting. So, Chelsea did concede more fouls  in away games, but had less yellow cards!"
   ]
  },
  {
   "cell_type": "code",
   "execution_count": null,
   "metadata": {},
   "outputs": [],
   "source": [
    "# shots on target metrics: home vs away\n",
    "home_shots_on_target = chelsea_home_df['home_team_shots_on_target'].mean()\n",
    "home_shots = chelsea_home_df['home_team_shots'].mean()\n",
    "percent_home_shots_on_target = home_shots_on_target / home_shots\n",
    "\n",
    "away_shots_on_target = chelsea_away_df['away_team_shots_on_target'].mean()\n",
    "away_shots = chelsea_away_df['away_team_shots'].mean()\n",
    "percent_away_shots_on_target = away_shots_on_target / away_shots\n",
    "\n"
   ]
  },
  {
   "cell_type": "code",
   "execution_count": 90,
   "metadata": {},
   "outputs": [
    {
     "data": {
      "image/png": "[encoded data removed]",
      "text/plain": [
       "<Figure size 640x480 with 1 Axes>"
      ]
     },
     "metadata": {},
     "output_type": "display_data"
    }
   ],
   "source": [
    "# shots on target metrics: home vs away\n",
    "# define labels and data\n",
    "labels = ['Shots on Target']\n",
    "home_data = home_shots_on_target\n",
    "away_data = away_shots_on_target\n",
    "\n",
    "fig, ax = plt.subplots()\n",
    "\n",
    "# Bar width can be adjusted as needed\n",
    "bar_width = 0.35\n",
    "bar_positions_home = range(len(labels))\n",
    "bar_positions_away = [pos + bar_width for pos in bar_positions_home]\n",
    "\n",
    "ax.bar(bar_positions_home, home_data, width=bar_width, label='Home')\n",
    "ax.bar(bar_positions_away, away_data, width=bar_width, label='Away')\n",
    "\n",
    "# Adding labels and title\n",
    "ax.set_xlabel('Result')\n",
    "ax.set_ylabel('Count')\n",
    "ax.set_title('Home vs. Away Performance: Shots on Target')\n",
    "ax.set_xticks([pos + bar_width/2 for pos in bar_positions_home])\n",
    "ax.set_xticklabels(labels)\n",
    "ax.legend()\n",
    "\n",
    "# Show the plot\n",
    "plt.show()"
   ]
  },
  {
   "cell_type": "code",
   "execution_count": 91,
   "metadata": {},
   "outputs": [
    {
     "data": {
      "image/png": "[encoded data removed]",
      "text/plain": [
       "<Figure size 640x480 with 1 Axes>"
      ]
     },
     "metadata": {},
     "output_type": "display_data"
    }
   ],
   "source": [
    "# shots on target metrics: home vs away\n",
    "# define labels and data\n",
    "labels = ['Total Shots']\n",
    "home_data = home_shots\n",
    "away_data = away_shots\n",
    "\n",
    "fig, ax = plt.subplots()\n",
    "\n",
    "# Bar width can be adjusted as needed\n",
    "bar_width = 0.35\n",
    "bar_positions_home = range(len(labels))\n",
    "bar_positions_away = [pos + bar_width for pos in bar_positions_home]\n",
    "\n",
    "ax.bar(bar_positions_home, home_data, width=bar_width, label='Home')\n",
    "ax.bar(bar_positions_away, away_data, width=bar_width, label='Away')\n",
    "\n",
    "# Adding labels and title\n",
    "ax.set_xlabel('Result')\n",
    "ax.set_ylabel('Count')\n",
    "ax.set_title('Home vs. Away Performance: Total Shots')\n",
    "ax.set_xticks([pos + bar_width/2 for pos in bar_positions_home])\n",
    "ax.set_xticklabels(labels)\n",
    "ax.legend()\n",
    "\n",
    "# Show the plot\n",
    "plt.show()"
   ]
  },
  {
   "cell_type": "code",
   "execution_count": 94,
   "metadata": {},
   "outputs": [
    {
     "name": "stdout",
     "output_type": "stream",
     "text": [
      "12.97635605006954\n",
      "12.161440960640427\n"
     ]
    }
   ],
   "source": [
    "print(percent_home_shots_on_target*100)\n",
    "print(percent_away_shots_on_target*100)"
   ]
  }
 ],
 "metadata": {
  "kernelspec": {
   "display_name": ".venv",
   "language": "python",
   "name": "python3"
  },
  "language_info": {
   "codemirror_mode": {
    "name": "ipython",
    "version": 3
   },
   "file_extension": ".py",
   "mimetype": "text/x-python",
   "name": "python",
   "nbconvert_exporter": "python",
   "pygments_lexer": "ipython3",
   "version": "3.8.2"
  }
 },
 "nbformat": 4,
 "nbformat_minor": 2
}
